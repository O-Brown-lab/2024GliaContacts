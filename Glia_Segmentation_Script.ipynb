{
 "cells": [
  {
   "cell_type": "markdown",
   "id": "b1483591",
   "metadata": {},
   "source": [
    "Improved segmentation with morphological transforms and watershedding"
   ]
  },
  {
   "cell_type": "code",
   "execution_count": 2,
   "id": "9ef582f5",
   "metadata": {},
   "outputs": [],
   "source": [
    "import numpy as np\n",
    "import shutil\n",
    "import pandas as pd\n",
    "import matplotlib.pyplot as plt\n",
    "import skimage.io as skio\n",
    "from skimage import filters, exposure, measure, draw, transform, segmentation, morphology, feature, color\n",
    "import parse\n",
    "import os\n",
    "import re\n",
    "from scipy import ndimage\n",
    "import h5py\n",
    "import colorcet as cc\n",
    "import cv2"
   ]
  },
  {
   "cell_type": "code",
   "execution_count": 3,
   "id": "487b5df4",
   "metadata": {},
   "outputs": [],
   "source": [
    "import sys"
   ]
  },
  {
   "cell_type": "code",
   "execution_count": 4,
   "id": "55f20ac1",
   "metadata": {},
   "outputs": [
    {
     "data": {
      "text/plain": [
       "(3, 9, 12, 'final', 0)"
      ]
     },
     "execution_count": 4,
     "metadata": {},
     "output_type": "execute_result"
    }
   ],
   "source": [
    "sys.version_info[:]"
   ]
  },
  {
   "cell_type": "code",
   "execution_count": 14,
   "id": "51f724f1",
   "metadata": {},
   "outputs": [
    {
     "name": "stdout",
     "output_type": "stream",
     "text": [
      "/home/no221/test\n"
     ]
    }
   ],
   "source": [
    "rootdir = \"/home/no221/test\"\n",
    "print(rootdir)"
   ]
  },
  {
   "cell_type": "code",
   "execution_count": 6,
   "id": "9661d64c",
   "metadata": {},
   "outputs": [],
   "source": [
    "# Set pixel sizes (from raw images) for downsampling (changed from 0.6061 from Harvard and downsample=2)\n",
    "downsample = 1\n",
    "dx = 1.2133*downsample\n",
    "dz = 0.9999*downsample"
   ]
  },
  {
   "cell_type": "code",
   "execution_count": 7,
   "id": "cfeaa3a4",
   "metadata": {},
   "outputs": [],
   "source": [
    "def parse_directories(rootdir, sample_regex, capture_regexes):\n",
    "    \"\"\" Find files containing data and extract metadata from file names, converting this into a pandas dataframe that can be referenced.\n",
    "    \"\"\"\n",
    "    # Find the last subdirectory that we consider part of the root\n",
    "    last_rootdir = os.path.split(rootdir)[1]\n",
    "    data_dict = {}\n",
    "    \n",
    "    # Recursively walk the root directory\n",
    "    for root, dirnames, fnames in os.walk(rootdir):\n",
    "        if len(fnames) == 0:\n",
    "            continue\n",
    "        # find individual samples according to a rule\n",
    "        for f in fnames:\n",
    "            m = re.search(sample_regex, f)\n",
    "            if m:\n",
    "                sample_name = m.group(0)\n",
    "                sample_path = os.path.join(root, sample_name)\n",
    "                if sample_path not in data_dict:\n",
    "                    data_dict[sample_path] = {}\n",
    "                    data_dict[sample_path][\"sample_name\"] = sample_name\n",
    "                    data_dict[sample_path][\"file_path\"] = os.path.join(root, f)\n",
    "                    dirsplit = root.split(\"/\")\n",
    "                    root_index = dirsplit.index(last_rootdir)\n",
    "                    subfolders = dirsplit[root_index+1:]\n",
    "#                     print(subfolders)\n",
    "                    # Extract information from subfolder structure (e.g. probability, dpf, etc.)\n",
    "                    for sfi, sf in enumerate(subfolders):\n",
    "                        data_dict[sample_path][\"subfolder_%d\" % sfi] = sf\n",
    "                    \n",
    "                    # Extract user-defined columns from fielnames\n",
    "                    for f2 in fnames:\n",
    "                        if sample_name in f2:\n",
    "                            for cr in capture_regexes:\n",
    "                                n = re.search(cr % sample_name, f2)\n",
    "                                if n:\n",
    "                                    data_dict[sample_path][n.group(0)] = os.path.join(root, f2)\n",
    "    df = pd.DataFrame(data_dict).transpose().rename_axis(\"sample_id\")\n",
    "    return df"
   ]
  },
  {
   "cell_type": "code",
   "execution_count": 8,
   "id": "6dbfef81",
   "metadata": {},
   "outputs": [],
   "source": [
    "def mask_to_labels(mask_img, bg_class):\n",
    "    \"\"\" Convert a single image mask with different Ilastik classifications to\n",
    "        a list of label images for each class (excluding the background) with\n",
    "        different numbers for each distinct ROI.\n",
    "    \"\"\"\n",
    "    classes = np.unique(mask_img)\n",
    "    label_images = []\n",
    "    for cl in classes:\n",
    "        if cl == bg_class:\n",
    "            continue\n",
    "        label_images.append(ndimage.label(mask_img==cl)[0])\n",
    "    return label_images"
   ]
  },
  {
   "cell_type": "code",
   "execution_count": 9,
   "id": "8bd4ad0e",
   "metadata": {},
   "outputs": [],
   "source": [
    "def ellipse_3d(region_mask):\n",
    "    \"\"\" Calculate coordinates of an ellipse with principal axes equal to the region\n",
    "        marked by `region_mask`.\n",
    "    \"\"\"\n",
    "    coords = np.argwhere(region_mask)\n",
    "    centroid = np.mean(coords, axis=0)\n",
    "    norm_coords = (coords-centroid).astype(np.float32)\n",
    "    norm_coords*= np.array([dz,dx,dx]).astype(np.float32)\n",
    "    covariance_matrix = (norm_coords.T @ norm_coords)/norm_coords.shape[0]\n",
    "    w, v = np.linalg.eig(covariance_matrix)\n",
    "    ellipse_volume = 4/3*np.pi*np.prod(w)\n",
    "    ellipse_area = 4*np.pi*(((w[0]*w[1])**1.6 + (w[0]*w[2])**1.6 + (w[2]*w[1])**1.6)/3)**(1/1.6)\n",
    "    eigenvalues = tuple(list(w))\n",
    "    return eigenvalues + (ellipse_area,) + (ellipse_volume,)"
   ]
  },
  {
   "cell_type": "code",
   "execution_count": 10,
   "id": "4a8ee153",
   "metadata": {},
   "outputs": [],
   "source": [
    "def simple_probabilities_to_mask_array(probability_img, bg_class):\n",
    "    \"\"\" Convert a ZxYxXxC image of Ilastik probabilities to a list of binary masks\n",
    "        for each class based on the maximum likelihood at each pixel.\n",
    "    \"\"\"\n",
    "    mask_images = []\n",
    "    for cl in range(probability_img.shape[-1]):\n",
    "        if cl == (bg_class-1):\n",
    "            continue\n",
    "        ML_class = np.argmax(probability_img, axis=-1) == cl\n",
    "        mask_images.append(ML_class)\n",
    "    return np.array(mask_images).astype(bool)\n",
    "\n",
    "def simple_mask_array_to_labels(mask_images, bg_class):\n",
    "    \"\"\" Take a CxZxYxX list of binary masks for each Ilastik classification and label\n",
    "        distinct ROIs.\n",
    "    \"\"\"\n",
    "    label_images = []\n",
    "    for cl in range(mask_images.shape[0]):\n",
    "        if cl == (bg_class-1):\n",
    "            continue\n",
    "        label_images.append(ndimage.label(mask_images[cl])[0])\n",
    "    return np.array(label_images)\n",
    "\n",
    "def contact_area_5(region_mask, distance):\n",
    "    \"\"\" Identify pixels within `region_mask` with a distance (to blood vessel)\n",
    "        lower than 5um.\n",
    "    \"\"\"\n",
    "    threshold = (5*(3**0.5)*dx)*1.01\n",
    "    return np.sum(distance[region_mask] < threshold)\n",
    "\n",
    "def contact_area_2(region_mask, distance):\n",
    "    \"\"\" Identify pixels within `region_mask` with a distance (to blood vessel)\n",
    "        lower than 2um.\n",
    "    \"\"\"\n",
    "    threshold = (2*(3**0.5)*dx)*1.01\n",
    "    return np.sum(distance[region_mask] < threshold)\n",
    "\n",
    "def contact_area_1(region_mask, distance):\n",
    "    \"\"\" Identify pixels within `region_mask` with a distance (to blood vessel)\n",
    "        lower than 1um.\n",
    "    \"\"\"\n",
    "    threshold = (1*(3**0.5)*dx)*1.01\n",
    "    return np.sum(distance[region_mask] < threshold)\n",
    "\n",
    "def surface_area(region_mask):\n",
    "    \"\"\" Calculate surface area of the object in `region_mask`.\n",
    "    \"\"\"\n",
    "    integer_mask = region_mask.astype(np.int8)\n",
    "    z_surf = np.sum((np.diff(integer_mask, axis=0, prepend=0, append=0) !=0))*dx*dz\n",
    "    y_surf = np.sum((np.diff(integer_mask, axis=1, prepend=0, append=0) !=0))*dx*dz\n",
    "    x_surf = np.sum((np.diff(integer_mask, axis=2, prepend=0, append=0) !=0))*dx*dz\n",
    "    \n",
    "    return z_surf + y_surf + x_surf\n",
    "\n",
    "def overlay_probs_mask(segments, probs, figsize=(4,4), axes = None, alpha=1):\n",
    "    \"\"\" Plot an overlay of Ilastik probabilities onto binary segmentations.\n",
    "    \"\"\"\n",
    "    interpl = \"none\"\n",
    "    if axes is None:\n",
    "        fig1, axes = plt.subplots(figsize=figsize)\n",
    "    axes.imshow(np.ma.masked_array(segments, segments==0).max(axis=0), interpolation=interpl, cmap=\"cet_glasbey_light\", alpha=alpha)\n",
    "    axes.imshow(1-probs.max(axis=0), interpolation=interpl, cmap=\"gray\", alpha=0.5)\n",
    "    return axes\n",
    "\n",
    "def sharpen_watershed(ws_segments, glia_prob, n_labels):\n",
    "    \"\"\" Refine watershed segmentation based on Ilastik probabilities.\n",
    "    \"\"\"\n",
    "    ws_segments2 = np.copy(ws_segments)\n",
    "    for i in np.arange(1, n_labels+1):\n",
    "        try:\n",
    "            isolated_prob = glia_prob[ws_segments==i]\n",
    "            thresh = filters.threshold_otsu(isolated_prob)*0.8\n",
    "        except IndexError:\n",
    "            continue\n",
    "        # Only keep pixels whose glia probability is higher than a threshold\n",
    "        ws_segments2[ws_segments==i] = \\\n",
    "            (glia_prob[ws_segments==i]>thresh).astype(np.uint16)*i\n",
    "    return ws_segments2"
   ]
  },
  {
   "cell_type": "code",
   "execution_count": 11,
   "id": "2b34b565",
   "metadata": {},
   "outputs": [],
   "source": [
    "def watershed_segment(glia_prob, labels_ML, raw_img):\n",
    "    \"\"\" Perform segmentation of glia from probabilities, labels, and raw images\n",
    "    \"\"\"\n",
    "    closing_size = 3\n",
    "    opening_size = 1\n",
    "    dilation_size=5\n",
    "    strel_dil = morphology.ball(dilation_size)\n",
    "    strel_close = morphology.ball(closing_size)\n",
    "    strel_open = morphology.ball(opening_size)\n",
    "    \n",
    "    # Spatial smoothing and downsampling\n",
    "    smoothed_probs = filters.gaussian(glia_prob, sigma=7)\n",
    "    scale_factor = 2\n",
    "    print(smoothed_probs.shape)\n",
    "    ds_sm_probs = transform.downscale_local_mean(smoothed_probs, scale_factor)\n",
    "    \n",
    "    # Find local maxima to serve as seeds for watershedding\n",
    "    local_maxima = feature.peak_local_max(ds_sm_probs, \\\n",
    "        footprint = morphology.ball(10//scale_factor),\\\n",
    "                                      threshold_abs=0.03,\\\n",
    "                        min_distance=3)*scale_factor\n",
    "    \n",
    "    # Morphological operations to clean up spurious ROIs identified during binary segmentation\n",
    "    ML_mask_aug = ndimage.binary_closing(labels_ML, strel_close)\n",
    "    ML_mask_aug = ndimage.binary_dilation(ML_mask_aug, strel_close)\n",
    "    removed_mask = morphology.remove_small_objects(ML_mask_aug, 100)\n",
    "    segment_area = ndimage.binary_dilation(removed_mask, strel_dil)\n",
    "    \n",
    "    \n",
    "    seeds = tuple(zip(*local_maxima))\n",
    "    # seeds = tuple(zip(*ndimage.maximum_position(probs[:,:,:,label-1], \\\n",
    "    #             labels=rm2_labels, index=np.arange(est_object_count)+1)))\n",
    "\n",
    "    seed_mask = np.zeros_like(glia_prob, dtype=bool)\n",
    "    seed_mask[seeds] = True\n",
    "    seed_labels, _ = ndimage.label(seed_mask)\n",
    "    \n",
    "    # Do watershedding\n",
    "    ws_segments = segmentation.watershed(-glia_prob, \\\n",
    "                seed_labels, mask=segment_area)\n",
    "    n_labels = np.max(ws_segments)\n",
    "    \n",
    "    # Perform watershedding\n",
    "    ws_segments2 = sharpen_watershed(ws_segments, glia_prob, n_labels)\n",
    "    \n",
    "    # Plot the segmentation results to test \n",
    "    fig1, axes = plt.subplots(2,3,figsize=(18,12))\n",
    "    axes = axes.ravel()\n",
    "    axes[0].imshow(raw_img[:,0,:,:].max(axis=0))\n",
    "    axes[1].imshow(glia_prob.max(axis=0))\n",
    "    \n",
    "    rois_ML, _ = ndimage.label(labels_ML)\n",
    "    overlay_probs_mask(rois_ML, glia_prob, axes=axes[2], alpha=0.5)\n",
    "    \n",
    "    axes[3].imshow(smoothed_probs.max(axis=0))\n",
    "    axes[3].plot(local_maxima[:,2], local_maxima[:,1], \"wx\")\n",
    "    \n",
    "    overlay_probs_mask(ws_segments, glia_prob, axes=axes[4], alpha=0.5)\n",
    "    \n",
    "    overlay_probs_mask(ws_segments2, glia_prob, axes=axes[5], alpha=0.5)\n",
    "    \n",
    "    axes[0].set_title(\"Raw fluorescence\")\n",
    "    axes[1].set_title(\"Ilastik probabilities\")\n",
    "    axes[2].set_title(\"Maximum likelihood\")\n",
    "    \n",
    "    axes[3].set_title(\"Smoothed global maxima\")\n",
    "    axes[4].set_title(\"Watershedding\")\n",
    "\n",
    "    axes[5].set_title(\"Watershedding sharpened\")\n",
    "    return ws_segments2, fig1"
   ]
  },
  {
   "cell_type": "markdown",
   "id": "4481af99",
   "metadata": {},
   "source": [
    "Load information about experiments from file structure."
   ]
  },
  {
   "cell_type": "code",
   "execution_count": 15,
   "id": "e515f0d2",
   "metadata": {
    "scrolled": false
   },
   "outputs": [
    {
     "data": {
      "text/html": [
       "<div>\n",
       "<style scoped>\n",
       "    .dataframe tbody tr th:only-of-type {\n",
       "        vertical-align: middle;\n",
       "    }\n",
       "\n",
       "    .dataframe tbody tr th {\n",
       "        vertical-align: top;\n",
       "    }\n",
       "\n",
       "    .dataframe thead th {\n",
       "        text-align: right;\n",
       "    }\n",
       "</style>\n",
       "<table border=\"1\" class=\"dataframe\">\n",
       "  <thead>\n",
       "    <tr style=\"text-align: right;\">\n",
       "      <th></th>\n",
       "      <th>Probabilities.h5</th>\n",
       "      <th>file_path</th>\n",
       "      <th>sample_name</th>\n",
       "      <th>measurements</th>\n",
       "    </tr>\n",
       "    <tr>\n",
       "      <th>sample_id</th>\n",
       "      <th></th>\n",
       "      <th></th>\n",
       "      <th></th>\n",
       "      <th></th>\n",
       "    </tr>\n",
       "  </thead>\n",
       "  <tbody>\n",
       "    <tr>\n",
       "      <th>/home/no221/test/Fish9</th>\n",
       "      <td>/home/no221/test/Fish9_Probabilities.h5</td>\n",
       "      <td>/home/no221/test/Fish9.tif</td>\n",
       "      <td>Fish9</td>\n",
       "      <td>None</td>\n",
       "    </tr>\n",
       "  </tbody>\n",
       "</table>\n",
       "</div>"
      ],
      "text/plain": [
       "                                               Probabilities.h5  \\\n",
       "sample_id                                                         \n",
       "/home/no221/test/Fish9  /home/no221/test/Fish9_Probabilities.h5   \n",
       "\n",
       "                                         file_path sample_name measurements  \n",
       "sample_id                                                                    \n",
       "/home/no221/test/Fish9  /home/no221/test/Fish9.tif       Fish9         None  "
      ]
     },
     "execution_count": 15,
     "metadata": {},
     "output_type": "execute_result"
    }
   ],
   "source": [
    "expt_data = parse_directories(rootdir, \"^[\\w]+(?=.tif)\", \\\n",
    "                              [\"(?<=%s_).+(?=.tif)\",\"(?<=^%s_).+.h5\"])\n",
    "expt_data[\"measurements\"] = None\n",
    "expt_data.head(10)\n"
   ]
  },
  {
   "cell_type": "code",
   "execution_count": 12,
   "id": "e42da6f9",
   "metadata": {
    "scrolled": true
   },
   "outputs": [],
   "source": [
    "# Parse directory structure to pick up tif and h5 files we don't use this anymore because we made it less complicated\n",
    "expt_data = parse_directories(rootdir, \"^[\\w]+(?=.tif)\", \\\n",
    "                              [\"(?<=%s_).+(?=.tif)\",\"(?<=^%s_).+.h5\"])\n",
    "expt_data = expt_data[pd.notna(expt_data[\"Probabilities.h5\"])].sort_values(\"subfolder_0\")\n",
    "expt_data[\"measurements\"] = None\n",
    "del expt_data[\"subfolder_1\"]\n",
    "del expt_data[\"subfolder_2\"]\n",
    "# Get fish age from subfolder\n",
    "#expt_data.rename(columns={\"subfolder_0\": \"age\"}, inplace=True)"
   ]
  },
  {
   "cell_type": "markdown",
   "id": "d83293fb",
   "metadata": {},
   "source": [
    "Perform segmentation and measurements."
   ]
  },
  {
   "cell_type": "code",
   "execution_count": 16,
   "id": "29d3a13c",
   "metadata": {
    "scrolled": false
   },
   "outputs": [
    {
     "name": "stdout",
     "output_type": "stream",
     "text": [
      "/home/no221/test/analysis/Fish9\n",
      "/home/no221/test/Fish9_Probabilities.h5\n",
      "(173, 512, 512)\n"
     ]
    },
    {
     "name": "stderr",
     "output_type": "stream",
     "text": [
      "/tmp/ipykernel_21013/123272062.py:44: UserWarning: /home/no221/test/analysis/Fish9/blood_vessel_labels.tif is a low contrast image\n",
      "  skio.imsave(os.path.join(sample_path, \"blood_vessel_labels.tif\"), bv_labels)\n",
      "/tmp/ipykernel_21013/123272062.py:45: UserWarning: /home/no221/test/analysis/Fish9/glia_labels.tif is a low contrast image\n",
      "  skio.imsave(os.path.join(sample_path, \"glia_labels.tif\"), glia_labels_final)\n",
      "/home/no221/.conda/envs/glia_v3/lib/python3.9/site-packages/pandas/core/arraylike.py:402: RuntimeWarning: invalid value encountered in sqrt\n",
      "  result = getattr(ufunc, method)(*inputs, **kwargs)\n"
     ]
    }
   ],
   "source": [
    "# Set matplotlib rendering method so figures don't write to the Jupyter notebook\n",
    "%matplotlib agg\n",
    "# for file_idx in range(1):\n",
    "for file_idx in range(expt_data.shape[0]):\n",
    "    sample_info = expt_data.iloc[file_idx]\n",
    "    sample_name = expt_data[\"sample_name\"].iloc[file_idx]\n",
    "    if expt_data[\"Probabilities.h5\"].isna().iloc[file_idx]:\n",
    "        print(sample_name)\n",
    "        continue\n",
    "        \n",
    "    # Make new folder for each image\n",
    "    sample_path = os.path.join(rootdir, \"analysis\", sample_name)\n",
    "    print(sample_path)\n",
    "\n",
    "    os.makedirs(sample_path, exist_ok=True)\n",
    "    \n",
    "    \n",
    "    expt_data[\"measurements\"].iloc[file_idx] = os.path.join(sample_path, \"measurements.csv\")\n",
    "    \n",
    "    # Load probability files\n",
    "    p = h5py.File(sample_info[\"Probabilities.h5\"], \"r\")\n",
    "    print(sample_info[\"Probabilities.h5\"])\n",
    "    \n",
    "    probs = transform.downscale_local_mean(p['exported_data'][0], (downsample, downsample, downsample,1))\n",
    "    raw_img = transform.downscale_local_mean(skio.imread(sample_info[\"file_path\"]), (downsample, 1, downsample, downsample)).astype(np.uint8)\n",
    "    \n",
    "    # Separate predicted classes\n",
    "    masks = simple_probabilities_to_mask_array(probs, 3)\n",
    "    \n",
    "    # Get distance of every pixel to blood vessels (class 1)\n",
    "    distance_to_bv = ndimage.distance_transform_edt(~(masks[0]), sampling=(dz, dx, dx))\n",
    "    labels = simple_mask_array_to_labels(masks, 3).astype(np.uint16)\n",
    "    \n",
    "    bv_labels = labels[1]\n",
    "    glia_labels_ML =labels[0]\n",
    "    \n",
    "    # Watershed glia labels\n",
    "    glia_labels_final, fig1 = watershed_segment(probs[:,:,:,1],glia_labels_ML, raw_img)\n",
    "    plt.figure(fig1.number)\n",
    "    plt.suptitle(\"%s, %s\" %(\"\", sample_name))\n",
    "    \n",
    "    plt.savefig(os.path.join(sample_path, \"object_seg_check.tif\"), dpi=250)\n",
    "    \n",
    "    skio.imsave(os.path.join(sample_path, \"blood_vessel_labels.tif\"), bv_labels)\n",
    "    skio.imsave(os.path.join(sample_path, \"glia_labels.tif\"), glia_labels_final)\n",
    "    \n",
    "    # Take measurements of the segmented regions\n",
    "    rps = measure.regionprops_table(glia_labels_final, intensity_image=distance_to_bv, properties=(\"label\", \"centroid\", \"area\", \\\n",
    "                \"intensity_mean\", \"intensity_min\", \"intensity_max\"), \\\n",
    "                            extra_properties=[surface_area, contact_area_5, contact_area_2, contact_area_1, ellipse_3d])\n",
    "    rps_df = pd.DataFrame(rps)\n",
    "    rps_df[[\"centroid-0\", \"centroid-1\", \"centroid-2\"]] *= np.array([dz, dx, dx])\n",
    "    rps_df[[\"area\"]] *= dz*dx**2\n",
    "    rps_df[[\"contact_area_5\"]] *= dz*dx\n",
    "    rps_df[[\"contact_area_2\"]] *= dz*dx\n",
    "    rps_df[[\"contact_area_1\"]] *= dz*dx\n",
    "    \n",
    "    rps_df.rename(columns={\"ellipse_3d-0\": \"ellipse_ax1\", \"ellipse_3d-1\": \"ellipse_ax2\",\\\n",
    "                           \"ellipse_3d-2\": \"ellipse_ax3\", \"ellipse_3d-3\": \"ellipse_surface_area\",\\\n",
    "                          \"ellipse_3d-4\": \"ellipse_volume\", \"area\":\"volume\",\\\n",
    "\"intensity_mean\": \"dist_bv_mean\", \"intensity_min\": \"dist_bv_min\", \"intensity_max\": \"dist_bv_max\",\\\n",
    "                  \"centroid-0\": \"centroid_z\", \"centroid-1\": \"centroid_y\", \"centroid-2\": \"centroid_x\"},\\\n",
    "                  inplace=True)\n",
    "    \n",
    "    rps_df[\"eccentricity\"] = np.sqrt(1 - (rps_df[\"ellipse_ax1\"]/rps_df[\"ellipse_ax2\"])**2)\n",
    "    rps_df[\"bushiness_1\"] = rps_df[\"surface_area\"]/rps_df[\"ellipse_surface_area\"]\n",
    "    rps_df[\"bushiness_2\"] = rps_df[\"surface_area\"]/rps_df[\"volume\"]/(rps_df[\"ellipse_surface_area\"]/rps_df[\"ellipse_volume\"])\n",
    "    rps_df[\"sample_name\"] = sample_name\n",
    "#     rps_df[\"age\"] = sample_info[\"age\"]\n",
    "    \n",
    "    rps_df.to_csv(os.path.join(sample_path, \"measurements.csv\"), index=False)\n",
    "    "
   ]
  },
  {
   "cell_type": "markdown",
   "id": "75213d40",
   "metadata": {},
   "source": [
    "Combine measurements for all cells in each sample"
   ]
  },
  {
   "cell_type": "code",
   "execution_count": 13,
   "id": "731d0500",
   "metadata": {},
   "outputs": [],
   "source": [
    "all_dfs = []\n",
    "# for file_idx in [0]:\n",
    "for file_idx in range(expt_data.shape[0]):\n",
    "    sample_info = expt_data.iloc[file_idx]\n",
    "    sample_name = expt_data[\"sample_name\"].iloc[file_idx]\n",
    "    sample_path = os.path.join(rootdir, \"analysis\", sample_name)\n",
    "    rps_df = pd.read_csv(os.path.join(sample_path, \"measurements.csv\"))\n",
    "    all_dfs.append(rps_df)\n",
    "all_dfs_pd = pd.concat(all_dfs, axis=0)\n",
    "all_dfs_pd.to_csv(os.path.join(rootdir, \"analysis\", \"all_glia_features.csv\"), index=False)\n",
    "expt_data.to_csv(os.path.join(rootdir, \"analysis\", \"expt_metadata.csv\"), index=False)"
   ]
  },
  {
   "cell_type": "markdown",
   "id": "80247705",
   "metadata": {},
   "source": [
    "Put number labels on segmentations"
   ]
  },
  {
   "cell_type": "code",
   "execution_count": 14,
   "id": "9f0112bf",
   "metadata": {},
   "outputs": [],
   "source": [
    "font = cv2.FONT_HERSHEY_SIMPLEX\n",
    "\n",
    "# fontScale\n",
    "fontScale = 0.4\n",
    "  \n",
    "# Line thickness of 2 px\n",
    "thickness = 1"
   ]
  },
  {
   "cell_type": "code",
   "execution_count": 15,
   "id": "533a5661",
   "metadata": {},
   "outputs": [
    {
     "name": "stderr",
     "output_type": "stream",
     "text": [
      "/tmp/ipykernel_25198/677993633.py:37: UserWarning: /home/no221/3dpf/analysis/Fish1/glia_labels_numbered_rgb_small.tif is a low contrast image\n",
      "  skio.imsave(os.path.join(sample_path, \"glia_labels_numbered_rgb_small.tif\"), glia_labels_rgb)\n",
      "/tmp/ipykernel_25198/677993633.py:38: UserWarning: /home/no221/3dpf/analysis/Fish1/glia_labels_numbered_channel_small.tif is a low contrast image\n",
      "  skio.imsave(os.path.join(sample_path, \"glia_labels_numbered_channel_small.tif\"), glia_labels_numbered_channel)\n",
      "/tmp/ipykernel_25198/677993633.py:37: UserWarning: /home/no221/3dpf/analysis/Fish10/glia_labels_numbered_rgb_small.tif is a low contrast image\n",
      "  skio.imsave(os.path.join(sample_path, \"glia_labels_numbered_rgb_small.tif\"), glia_labels_rgb)\n",
      "/tmp/ipykernel_25198/677993633.py:38: UserWarning: /home/no221/3dpf/analysis/Fish10/glia_labels_numbered_channel_small.tif is a low contrast image\n",
      "  skio.imsave(os.path.join(sample_path, \"glia_labels_numbered_channel_small.tif\"), glia_labels_numbered_channel)\n",
      "/tmp/ipykernel_25198/677993633.py:37: UserWarning: /home/no221/3dpf/analysis/Fish11/glia_labels_numbered_rgb_small.tif is a low contrast image\n",
      "  skio.imsave(os.path.join(sample_path, \"glia_labels_numbered_rgb_small.tif\"), glia_labels_rgb)\n",
      "/tmp/ipykernel_25198/677993633.py:38: UserWarning: /home/no221/3dpf/analysis/Fish11/glia_labels_numbered_channel_small.tif is a low contrast image\n",
      "  skio.imsave(os.path.join(sample_path, \"glia_labels_numbered_channel_small.tif\"), glia_labels_numbered_channel)\n"
     ]
    }
   ],
   "source": [
    "# for file_idx in range(1):\n",
    "for file_idx in range(expt_data.shape[0]):\n",
    "    # Load images\n",
    "    sample_info = expt_data.iloc[file_idx]\n",
    "    sample_name = expt_data[\"sample_name\"].iloc[file_idx]\n",
    "    sample_path = os.path.join(rootdir, \"analysis\", sample_name)\n",
    "    glia_labels_final = skio.imread(os.path.join(sample_path, \"glia_labels.tif\")).astype(np.uint16)\n",
    "    \n",
    "    # Load measurements\n",
    "    rps_df = pd.read_csv(os.path.join(sample_path, \"measurements.csv\"))\n",
    "    \n",
    "    # Find locations of segmented cells and convert centroids back to pixels\n",
    "    xy_centroid_labels = rps_df[[\"label\"]].copy()\n",
    "    xy_centroid_labels[\"centroid_y_px\"] = (rps_df[\"centroid_y\"]//dx).astype(int)\n",
    "    xy_centroid_labels[\"centroid_x_px\"] = (rps_df[\"centroid_x\"]//dx).astype(int)\n",
    "    xy_centroid_labels = xy_centroid_labels.set_index(\"label\")\n",
    "    \n",
    "    # convert label image to RGB\n",
    "    glia_labels_rgb = exposure.rescale_intensity(color.label2rgb(glia_labels_final, alpha=1), out_range=np.uint8)\n",
    "    blank = np.zeros_like(glia_labels_rgb, dtype=np.uint8)\n",
    "    \n",
    "    # Draw text for each cell\n",
    "    for z in range(glia_labels_rgb.shape[0]):\n",
    "        unique_labels = np.unique(glia_labels_final[z])\n",
    "        if len(unique_labels) > 1:\n",
    "            for l in unique_labels[1:]:\n",
    "                glia_labels_rgb[z] = cv2.putText(glia_labels_rgb[z], str(l),\\\n",
    "                                                 tuple(xy_centroid_labels.loc[l][[\"centroid_x_px\", \"centroid_y_px\"]]),\\\n",
    "                                                font, fontScale, (255, 255, 255), thickness, cv2.LINE_AA)\n",
    "                blank[z] = cv2.putText(blank[z], str(l),\\\n",
    "                                 tuple(xy_centroid_labels.loc[l][[\"centroid_x_px\", \"centroid_y_px\"]]),\\\n",
    "                                font, fontScale, (255, 255, 255), thickness, cv2.LINE_AA)\n",
    "\n",
    "    \n",
    "    glia_labels_numbered_channel = np.moveaxis(np.array([glia_labels_final, blank.max(axis=-1).astype(np.uint16)]), 1, 0)\n",
    "    # Save RGB version and version where labels are a separate image channel\n",
    "    skio.imsave(os.path.join(sample_path, \"glia_labels_numbered_rgb_small.tif\"), glia_labels_rgb)\n",
    "    skio.imsave(os.path.join(sample_path, \"glia_labels_numbered_channel_small.tif\"), glia_labels_numbered_channel)"
   ]
  },
  {
   "cell_type": "markdown",
   "id": "f1867dc5",
   "metadata": {},
   "source": [
    "Generate contact masks"
   ]
  },
  {
   "cell_type": "code",
   "execution_count": 16,
   "id": "ad115c0d",
   "metadata": {},
   "outputs": [
    {
     "name": "stdout",
     "output_type": "stream",
     "text": [
      "/home/no221/3dpf/analysis/Fish1\n"
     ]
    },
    {
     "name": "stderr",
     "output_type": "stream",
     "text": [
      "/tmp/ipykernel_25198/2305950624.py:17: UserWarning: /home/no221/3dpf/analysis/Fish1/contact_mask.tif is a boolean image: setting True to 255 and False to 0. To silence this warning, please convert the image using img_as_ubyte.\n",
      "  skio.imsave(os.path.join(sample_path, \"contact_mask.tif\"), contact_mask)\n",
      "/tmp/ipykernel_25198/2305950624.py:17: UserWarning: /home/no221/3dpf/analysis/Fish1/contact_mask.tif is a low contrast image\n",
      "  skio.imsave(os.path.join(sample_path, \"contact_mask.tif\"), contact_mask)\n"
     ]
    },
    {
     "name": "stdout",
     "output_type": "stream",
     "text": [
      "/home/no221/3dpf/analysis/Fish10\n"
     ]
    },
    {
     "name": "stderr",
     "output_type": "stream",
     "text": [
      "/tmp/ipykernel_25198/2305950624.py:17: UserWarning: /home/no221/3dpf/analysis/Fish10/contact_mask.tif is a boolean image: setting True to 255 and False to 0. To silence this warning, please convert the image using img_as_ubyte.\n",
      "  skio.imsave(os.path.join(sample_path, \"contact_mask.tif\"), contact_mask)\n",
      "/tmp/ipykernel_25198/2305950624.py:17: UserWarning: /home/no221/3dpf/analysis/Fish10/contact_mask.tif is a low contrast image\n",
      "  skio.imsave(os.path.join(sample_path, \"contact_mask.tif\"), contact_mask)\n"
     ]
    },
    {
     "name": "stdout",
     "output_type": "stream",
     "text": [
      "/home/no221/3dpf/analysis/Fish11\n"
     ]
    },
    {
     "name": "stderr",
     "output_type": "stream",
     "text": [
      "/tmp/ipykernel_25198/2305950624.py:17: UserWarning: /home/no221/3dpf/analysis/Fish11/contact_mask.tif is a boolean image: setting True to 255 and False to 0. To silence this warning, please convert the image using img_as_ubyte.\n",
      "  skio.imsave(os.path.join(sample_path, \"contact_mask.tif\"), contact_mask)\n",
      "/tmp/ipykernel_25198/2305950624.py:17: UserWarning: /home/no221/3dpf/analysis/Fish11/contact_mask.tif is a low contrast image\n",
      "  skio.imsave(os.path.join(sample_path, \"contact_mask.tif\"), contact_mask)\n"
     ]
    }
   ],
   "source": [
    "%matplotlib agg\n",
    "\n",
    "for file_idx in range(expt_data.shape[0]):\n",
    "    sample_info = expt_data.iloc[file_idx]\n",
    "    sample_name = expt_data[\"sample_name\"].iloc[file_idx]\n",
    "    sample_path = os.path.join(rootdir, \"analysis\", sample_name)\n",
    "    print(sample_path)\n",
    "    bv_labels = skio.imread(os.path.join(sample_path, \"blood_vessel_labels.tif\"))\n",
    "    glia_labels_final = skio.imread(os.path.join(sample_path, \"glia_labels.tif\"))\n",
    "    bv_mask = bv_labels > 0\n",
    "    \n",
    "    distance_to_bv = ndimage.distance_transform_edt(~bv_mask, sampling=(dz, dx, dx))\n",
    "    # Generate mask of pixels closer to blood vessels than a defined threshold. \n",
    "    # Also account for pixels that are diagonally touching.\n",
    "    threshold = 1\n",
    "    contact_mask = (distance_to_bv < (threshold*(3**0.5)*dx)*1.01) * (glia_labels_final > 0)\n",
    "    skio.imsave(os.path.join(sample_path, \"contact_mask.tif\"), contact_mask)"
   ]
  },
  {
   "cell_type": "code",
   "execution_count": null,
   "id": "a4a7e048",
   "metadata": {},
   "outputs": [],
   "source": []
  }
 ],
 "metadata": {
  "kernelspec": {
   "display_name": "Python 3 (ipykernel)",
   "language": "python",
   "name": "python3"
  },
  "language_info": {
   "codemirror_mode": {
    "name": "ipython",
    "version": 3
   },
   "file_extension": ".py",
   "mimetype": "text/x-python",
   "name": "python",
   "nbconvert_exporter": "python",
   "pygments_lexer": "ipython3",
   "version": "3.9.12"
  }
 },
 "nbformat": 4,
 "nbformat_minor": 5
}
